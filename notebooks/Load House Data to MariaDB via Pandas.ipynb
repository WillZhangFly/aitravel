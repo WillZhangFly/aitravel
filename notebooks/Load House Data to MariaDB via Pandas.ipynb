{
 "cells": [
  {
   "cell_type": "code",
   "execution_count": 2,
   "id": "7d0c9b98-4bcb-468f-90b7-82162f024c18",
   "metadata": {},
   "outputs": [],
   "source": [
    "from env import config, BASE_DIR\n",
    "from sqlalchemy import create_engine, text"
   ]
  },
  {
   "cell_type": "code",
   "execution_count": 3,
   "id": "ce2f0ae8-1212-4a12-a5aa-ef4e830bab3e",
   "metadata": {},
   "outputs": [
    {
     "data": {
      "text/plain": [
       "True"
      ]
     },
     "execution_count": 3,
     "metadata": {},
     "output_type": "execute_result"
    }
   ],
   "source": [
    "DATABASE_URL = config(\"HOUSING_DATABASE_URL\", cast=str, default=None)\n",
    "DATABASE_URL is not None"
   ]
  },
  {
   "cell_type": "code",
   "execution_count": 4,
   "id": "0957001a-e3d7-47d4-87b6-b2aebf3c9687",
   "metadata": {},
   "outputs": [],
   "source": [
    "engine = create_engine(str(DATABASE_URL))"
   ]
  },
  {
   "cell_type": "code",
   "execution_count": 5,
   "id": "8c17dc67-07ba-409f-ab80-072a0cdcd2ea",
   "metadata": {},
   "outputs": [
    {
     "data": {
      "text/plain": [
       "True"
      ]
     },
     "execution_count": 5,
     "metadata": {},
     "output_type": "execute_result"
    }
   ],
   "source": [
    "DATASET_DIR = BASE_DIR / \"datasets\"\n",
    "DATASET_DIR.exists()"
   ]
  },
  {
   "cell_type": "code",
   "execution_count": 6,
   "id": "d17d1c09-52ce-4f43-919d-de19eaff2fab",
   "metadata": {},
   "outputs": [
    {
     "data": {
      "text/plain": [
       "True"
      ]
     },
     "execution_count": 6,
     "metadata": {},
     "output_type": "execute_result"
    }
   ],
   "source": [
    "HOUSE_CSV = DATASET_DIR / \"housing_ds.csv\"\n",
    "HOUSE_CSV.exists()"
   ]
  },
  {
   "cell_type": "code",
   "execution_count": 7,
   "id": "c6050089-7e9d-485f-af92-191217e988d8",
   "metadata": {},
   "outputs": [],
   "source": [
    "import pandas as pd"
   ]
  },
  {
   "cell_type": "code",
   "execution_count": 8,
   "id": "56dfeca7-27d2-4c99-b9d4-29be214365e7",
   "metadata": {},
   "outputs": [
    {
     "data": {
      "text/html": [
       "<div>\n",
       "<style scoped>\n",
       "    .dataframe tbody tr th:only-of-type {\n",
       "        vertical-align: middle;\n",
       "    }\n",
       "\n",
       "    .dataframe tbody tr th {\n",
       "        vertical-align: top;\n",
       "    }\n",
       "\n",
       "    .dataframe thead th {\n",
       "        text-align: right;\n",
       "    }\n",
       "</style>\n",
       "<table border=\"1\" class=\"dataframe\">\n",
       "  <thead>\n",
       "    <tr style=\"text-align: right;\">\n",
       "      <th></th>\n",
       "      <th>saledate</th>\n",
       "      <th>MA</th>\n",
       "      <th>type</th>\n",
       "      <th>bedrooms</th>\n",
       "    </tr>\n",
       "  </thead>\n",
       "  <tbody>\n",
       "    <tr>\n",
       "      <th>0</th>\n",
       "      <td>30/09/2007</td>\n",
       "      <td>441854</td>\n",
       "      <td>house</td>\n",
       "      <td>2</td>\n",
       "    </tr>\n",
       "    <tr>\n",
       "      <th>1</th>\n",
       "      <td>31/12/2007</td>\n",
       "      <td>441854</td>\n",
       "      <td>house</td>\n",
       "      <td>2</td>\n",
       "    </tr>\n",
       "    <tr>\n",
       "      <th>2</th>\n",
       "      <td>31/03/2008</td>\n",
       "      <td>441854</td>\n",
       "      <td>house</td>\n",
       "      <td>2</td>\n",
       "    </tr>\n",
       "    <tr>\n",
       "      <th>3</th>\n",
       "      <td>30/06/2008</td>\n",
       "      <td>441854</td>\n",
       "      <td>house</td>\n",
       "      <td>2</td>\n",
       "    </tr>\n",
       "    <tr>\n",
       "      <th>4</th>\n",
       "      <td>30/09/2008</td>\n",
       "      <td>451583</td>\n",
       "      <td>house</td>\n",
       "      <td>2</td>\n",
       "    </tr>\n",
       "    <tr>\n",
       "      <th>5</th>\n",
       "      <td>31/12/2008</td>\n",
       "      <td>440256</td>\n",
       "      <td>house</td>\n",
       "      <td>2</td>\n",
       "    </tr>\n",
       "    <tr>\n",
       "      <th>6</th>\n",
       "      <td>31/03/2009</td>\n",
       "      <td>442566</td>\n",
       "      <td>house</td>\n",
       "      <td>2</td>\n",
       "    </tr>\n",
       "    <tr>\n",
       "      <th>7</th>\n",
       "      <td>30/06/2009</td>\n",
       "      <td>446113</td>\n",
       "      <td>house</td>\n",
       "      <td>2</td>\n",
       "    </tr>\n",
       "    <tr>\n",
       "      <th>8</th>\n",
       "      <td>30/09/2009</td>\n",
       "      <td>440123</td>\n",
       "      <td>house</td>\n",
       "      <td>2</td>\n",
       "    </tr>\n",
       "    <tr>\n",
       "      <th>9</th>\n",
       "      <td>31/12/2009</td>\n",
       "      <td>442131</td>\n",
       "      <td>house</td>\n",
       "      <td>2</td>\n",
       "    </tr>\n",
       "    <tr>\n",
       "      <th>10</th>\n",
       "      <td>31/03/2010</td>\n",
       "      <td>459222</td>\n",
       "      <td>house</td>\n",
       "      <td>2</td>\n",
       "    </tr>\n",
       "    <tr>\n",
       "      <th>11</th>\n",
       "      <td>30/06/2010</td>\n",
       "      <td>456822</td>\n",
       "      <td>house</td>\n",
       "      <td>2</td>\n",
       "    </tr>\n",
       "    <tr>\n",
       "      <th>12</th>\n",
       "      <td>30/09/2010</td>\n",
       "      <td>457806</td>\n",
       "      <td>house</td>\n",
       "      <td>2</td>\n",
       "    </tr>\n",
       "    <tr>\n",
       "      <th>13</th>\n",
       "      <td>31/12/2010</td>\n",
       "      <td>459109</td>\n",
       "      <td>house</td>\n",
       "      <td>2</td>\n",
       "    </tr>\n",
       "    <tr>\n",
       "      <th>14</th>\n",
       "      <td>31/03/2011</td>\n",
       "      <td>460758</td>\n",
       "      <td>house</td>\n",
       "      <td>2</td>\n",
       "    </tr>\n",
       "  </tbody>\n",
       "</table>\n",
       "</div>"
      ],
      "text/plain": [
       "      saledate      MA   type  bedrooms\n",
       "0   30/09/2007  441854  house         2\n",
       "1   31/12/2007  441854  house         2\n",
       "2   31/03/2008  441854  house         2\n",
       "3   30/06/2008  441854  house         2\n",
       "4   30/09/2008  451583  house         2\n",
       "5   31/12/2008  440256  house         2\n",
       "6   31/03/2009  442566  house         2\n",
       "7   30/06/2009  446113  house         2\n",
       "8   30/09/2009  440123  house         2\n",
       "9   31/12/2009  442131  house         2\n",
       "10  31/03/2010  459222  house         2\n",
       "11  30/06/2010  456822  house         2\n",
       "12  30/09/2010  457806  house         2\n",
       "13  31/12/2010  459109  house         2\n",
       "14  31/03/2011  460758  house         2"
      ]
     },
     "execution_count": 8,
     "metadata": {},
     "output_type": "execute_result"
    }
   ],
   "source": [
    "df = pd.read_csv(HOUSE_CSV)\n",
    "df.head(n=15)"
   ]
  },
  {
   "cell_type": "code",
   "execution_count": 16,
   "id": "c6c33224-a23c-44a3-be73-c1060168bb17",
   "metadata": {},
   "outputs": [
    {
     "data": {
      "text/plain": [
       "saledate    object\n",
       "MA           int64\n",
       "type        object\n",
       "bedrooms     int64\n",
       "dtype: object"
      ]
     },
     "execution_count": 16,
     "metadata": {},
     "output_type": "execute_result"
    }
   ],
   "source": [
    "df.dtypes"
   ]
  },
  {
   "cell_type": "code",
   "execution_count": 17,
   "id": "09f3af29-f977-43f0-b973-11bd6ab3ccd8",
   "metadata": {},
   "outputs": [],
   "source": [
    "df['date']=pd.to_datetime(df['saledate'], format=\"%d/%m/%Y\")"
   ]
  },
  {
   "cell_type": "code",
   "execution_count": 18,
   "id": "d030fbe6-4453-4f71-9ff3-b6682ffd233c",
   "metadata": {},
   "outputs": [
    {
     "data": {
      "text/plain": [
       "saledate            object\n",
       "MA                   int64\n",
       "type                object\n",
       "bedrooms             int64\n",
       "date        datetime64[ns]\n",
       "dtype: object"
      ]
     },
     "execution_count": 18,
     "metadata": {},
     "output_type": "execute_result"
    }
   ],
   "source": [
    "df.dtypes"
   ]
  },
  {
   "cell_type": "code",
   "execution_count": 24,
   "id": "74b48b0a-3fbb-4c0b-a522-39f02561db90",
   "metadata": {},
   "outputs": [],
   "source": [
    "out_df = df.copy()[['date', 'MA', 'type', 'bedrooms']]"
   ]
  },
  {
   "cell_type": "code",
   "execution_count": 25,
   "id": "b3731201-4b32-4c79-94cb-aff1ceeda2cf",
   "metadata": {},
   "outputs": [
    {
     "data": {
      "text/plain": [
       "347"
      ]
     },
     "execution_count": 25,
     "metadata": {},
     "output_type": "execute_result"
    }
   ],
   "source": [
    "out_df.to_sql(\"kaggle_house_data\", engine, if_exists='replace', index=False)"
   ]
  },
  {
   "cell_type": "code",
   "execution_count": 26,
   "id": "ca7034f8-bca2-4624-9746-6d91d373126c",
   "metadata": {},
   "outputs": [
    {
     "data": {
      "text/plain": [
       "(347, 5)"
      ]
     },
     "execution_count": 26,
     "metadata": {},
     "output_type": "execute_result"
    }
   ],
   "source": [
    "df.shape"
   ]
  },
  {
   "cell_type": "code",
   "execution_count": 27,
   "id": "66e2c776-c92f-441d-89e4-57aff2f14c09",
   "metadata": {},
   "outputs": [
    {
     "name": "stdout",
     "output_type": "stream",
     "text": [
      "[(datetime.datetime(2007, 9, 30, 0, 0), 441854, 'house', 2), (datetime.datetime(2007, 12, 31, 0, 0), 441854, 'house', 2), (datetime.datetime(2008, 3, 31, 0, 0), 441854, 'house', 2), (datetime.datetime(2008, 6, 30, 0, 0), 441854, 'house', 2), (datetime.datetime(2008, 9, 30, 0, 0), 451583, 'house', 2), (datetime.datetime(2008, 12, 31, 0, 0), 440256, 'house', 2), (datetime.datetime(2009, 3, 31, 0, 0), 442566, 'house', 2), (datetime.datetime(2009, 6, 30, 0, 0), 446113, 'house', 2), (datetime.datetime(2009, 9, 30, 0, 0), 440123, 'house', 2), (datetime.datetime(2009, 12, 31, 0, 0), 442131, 'house', 2)]\n"
     ]
    }
   ],
   "source": [
    "with engine.connect() as conn:\n",
    "   results = conn.execute(text(f\"SELECT * from kaggle_house_data LIMIT 10\"))\n",
    "   print(results.all())"
   ]
  },
  {
   "cell_type": "code",
   "execution_count": null,
   "id": "787c622f-08af-4586-a870-20154c8746d0",
   "metadata": {},
   "outputs": [],
   "source": []
  }
 ],
 "metadata": {
  "kernelspec": {
   "display_name": "Python 3 (ipykernel)",
   "language": "python",
   "name": "python3"
  },
  "language_info": {
   "codemirror_mode": {
    "name": "ipython",
    "version": 3
   },
   "file_extension": ".py",
   "mimetype": "text/x-python",
   "name": "python",
   "nbconvert_exporter": "python",
   "pygments_lexer": "ipython3",
   "version": "3.13.1"
  }
 },
 "nbformat": 4,
 "nbformat_minor": 5
}
