{
 "cells": [
  {
   "cell_type": "code",
   "execution_count": 5,
   "id": "39dbdc89-d9bc-47c2-a438-001e8cbb5770",
   "metadata": {},
   "outputs": [],
   "source": [
    "import requests"
   ]
  },
  {
   "cell_type": "code",
   "execution_count": 6,
   "id": "fcf8fce1-600c-4db2-a0aa-090f3acff33f",
   "metadata": {},
   "outputs": [],
   "source": [
    "url = \"http://127.0.0.1:8080/hello-world\""
   ]
  },
  {
   "cell_type": "code",
   "execution_count": 7,
   "id": "439719ef-f953-47c1-bcc5-4e8e97125f01",
   "metadata": {},
   "outputs": [
    {
     "name": "stdout",
     "output_type": "stream",
     "text": [
      "{'hello': 'hello world', 'Debug': True}\n"
     ]
    }
   ],
   "source": [
    "r = requests.get(url)\n",
    "print(r.json())"
   ]
  },
  {
   "cell_type": "code",
   "execution_count": 15,
   "id": "54c261d1-a743-48f1-b408-50865a7a0b44",
   "metadata": {},
   "outputs": [
    {
     "name": "stdout",
     "output_type": "stream",
     "text": [
      "[{'id': 0, 'flightDate': '2022-04-17', 'startingAirport': 'ATL', 'destinationAirport': 'BOS', 'segmentsAirlineName': 'American Airlines||American Airlines', 'totalFare': 273}, {'id': 1, 'flightDate': '2022-04-17', 'startingAirport': 'ATL', 'destinationAirport': 'BOS', 'segmentsAirlineName': 'Spirit Airlines||Spirit Airlines', 'totalFare': 301}, {'id': 2, 'flightDate': '2022-04-17', 'startingAirport': 'ATL', 'destinationAirport': 'BOS', 'segmentsAirlineName': 'United||United', 'totalFare': 352}, {'id': 3, 'flightDate': '2022-04-17', 'startingAirport': 'ATL', 'destinationAirport': 'BOS', 'segmentsAirlineName': 'American Airlines', 'totalFare': 355}, {'id': 4, 'flightDate': '2022-04-17', 'startingAirport': 'ATL', 'destinationAirport': 'BOS', 'segmentsAirlineName': 'Delta', 'totalFare': 307}, {'id': 5, 'flightDate': '2022-04-17', 'startingAirport': 'ATL', 'destinationAirport': 'BOS', 'segmentsAirlineName': 'JetBlue Airways', 'totalFare': 302}, {'id': 6, 'flightDate': '2022-04-17', 'startingAirport': 'ATL', 'destinationAirport': 'BOS', 'segmentsAirlineName': 'United||United', 'totalFare': 307}, {'id': 7, 'flightDate': '2022-04-17', 'startingAirport': 'ATL', 'destinationAirport': 'CLT', 'segmentsAirlineName': 'American Airlines||American Airlines', 'totalFare': 492}, {'id': 8, 'flightDate': '2022-04-17', 'startingAirport': 'ATL', 'destinationAirport': 'CLT', 'segmentsAirlineName': 'JetBlue Airways||JetBlue Airways', 'totalFare': 543}, {'id': 9, 'flightDate': '2022-04-17', 'startingAirport': 'ATL', 'destinationAirport': 'CLT', 'segmentsAirlineName': 'United||United', 'totalFare': 467}, {'id': 10, 'flightDate': '2022-04-17', 'startingAirport': 'ATL', 'destinationAirport': 'CLT', 'segmentsAirlineName': 'American Airlines', 'totalFare': 425}, {'id': 11, 'flightDate': '2022-04-17', 'startingAirport': 'ATL', 'destinationAirport': 'CLT', 'segmentsAirlineName': 'Delta', 'totalFare': 399}, {'id': 12, 'flightDate': '2022-04-17', 'startingAirport': 'ATL', 'destinationAirport': 'DEN', 'segmentsAirlineName': 'American Airlines||American Airlines', 'totalFare': 305}, {'id': 13, 'flightDate': '2022-04-17', 'startingAirport': 'ATL', 'destinationAirport': 'DEN', 'segmentsAirlineName': 'Frontier Airlines||Frontier Airlines', 'totalFare': 554}, {'id': 14, 'flightDate': '2022-04-17', 'startingAirport': 'ATL', 'destinationAirport': 'DEN', 'segmentsAirlineName': 'Spirit Airlines||Spirit Airlines', 'totalFare': 273}, {'id': 15, 'flightDate': '2022-04-17', 'startingAirport': 'ATL', 'destinationAirport': 'DEN', 'segmentsAirlineName': 'United||United', 'totalFare': 320}, {'id': 16, 'flightDate': '2022-04-17', 'startingAirport': 'ATL', 'destinationAirport': 'DEN', 'segmentsAirlineName': 'Delta', 'totalFare': 297}, {'id': 17, 'flightDate': '2022-04-17', 'startingAirport': 'ATL', 'destinationAirport': 'DEN', 'segmentsAirlineName': 'Frontier Airlines', 'totalFare': 134}, {'id': 18, 'flightDate': '2022-04-17', 'startingAirport': 'ATL', 'destinationAirport': 'DEN', 'segmentsAirlineName': 'United', 'totalFare': 297}, {'id': 19, 'flightDate': '2022-04-17', 'startingAirport': 'ATL', 'destinationAirport': 'DFW', 'segmentsAirlineName': 'American Airlines||American Airlines', 'totalFare': 211}, {'id': 20, 'flightDate': '2022-04-17', 'startingAirport': 'ATL', 'destinationAirport': 'DFW', 'segmentsAirlineName': 'Spirit Airlines||Spirit Airlines', 'totalFare': 344}, {'id': 21, 'flightDate': '2022-04-17', 'startingAirport': 'ATL', 'destinationAirport': 'DFW', 'segmentsAirlineName': 'United||United', 'totalFare': 227}, {'id': 22, 'flightDate': '2022-04-17', 'startingAirport': 'ATL', 'destinationAirport': 'DFW', 'segmentsAirlineName': 'American Airlines', 'totalFare': 212}, {'id': 23, 'flightDate': '2022-04-17', 'startingAirport': 'ATL', 'destinationAirport': 'DFW', 'segmentsAirlineName': 'Delta', 'totalFare': 224}, {'id': 24, 'flightDate': '2022-04-17', 'startingAirport': 'ATL', 'destinationAirport': 'DFW', 'segmentsAirlineName': 'Frontier Airlines', 'totalFare': 404}, {'id': 25, 'flightDate': '2022-04-17', 'startingAirport': 'ATL', 'destinationAirport': 'DFW', 'segmentsAirlineName': 'Spirit Airlines', 'totalFare': 169}, {'id': 26, 'flightDate': '2022-04-17', 'startingAirport': 'ATL', 'destinationAirport': 'DTW', 'segmentsAirlineName': 'American Airlines||American Airlines', 'totalFare': 250}, {'id': 27, 'flightDate': '2022-04-17', 'startingAirport': 'ATL', 'destinationAirport': 'DTW', 'segmentsAirlineName': 'Delta||Cape Air||Cape Air||Delta', 'totalFare': 788}, {'id': 28, 'flightDate': '2022-04-17', 'startingAirport': 'ATL', 'destinationAirport': 'DTW', 'segmentsAirlineName': 'Delta||Delta', 'totalFare': 568}, {'id': 29, 'flightDate': '2022-04-17', 'startingAirport': 'ATL', 'destinationAirport': 'DTW', 'segmentsAirlineName': 'Delta||United', 'totalFare': 432}, {'id': 30, 'flightDate': '2022-04-17', 'startingAirport': 'ATL', 'destinationAirport': 'DTW', 'segmentsAirlineName': 'JetBlue Airways||JetBlue Airways', 'totalFare': 314}, {'id': 31, 'flightDate': '2022-04-17', 'startingAirport': 'ATL', 'destinationAirport': 'DTW', 'segmentsAirlineName': 'Spirit Airlines||Spirit Airlines', 'totalFare': 312}, {'id': 32, 'flightDate': '2022-04-17', 'startingAirport': 'ATL', 'destinationAirport': 'DTW', 'segmentsAirlineName': 'United||United', 'totalFare': 284}, {'id': 33, 'flightDate': '2022-04-17', 'startingAirport': 'ATL', 'destinationAirport': 'DTW', 'segmentsAirlineName': 'Delta', 'totalFare': 499}, {'id': 34, 'flightDate': '2022-04-17', 'startingAirport': 'ATL', 'destinationAirport': 'DTW', 'segmentsAirlineName': 'Spirit Airlines', 'totalFare': 166}, {'id': 35, 'flightDate': '2022-04-17', 'startingAirport': 'ATL', 'destinationAirport': 'EWR', 'segmentsAirlineName': 'American Airlines||American Airlines', 'totalFare': 237}, {'id': 36, 'flightDate': '2022-04-17', 'startingAirport': 'ATL', 'destinationAirport': 'EWR', 'segmentsAirlineName': 'Spirit Airlines||Spirit Airlines', 'totalFare': 372}, {'id': 37, 'flightDate': '2022-04-17', 'startingAirport': 'ATL', 'destinationAirport': 'EWR', 'segmentsAirlineName': 'United||United', 'totalFare': 263}, {'id': 38, 'flightDate': '2022-04-17', 'startingAirport': 'ATL', 'destinationAirport': 'EWR', 'segmentsAirlineName': 'American Airlines', 'totalFare': 229}, {'id': 39, 'flightDate': '2022-04-17', 'startingAirport': 'ATL', 'destinationAirport': 'EWR', 'segmentsAirlineName': 'Delta', 'totalFare': 220}, {'id': 40, 'flightDate': '2022-04-17', 'startingAirport': 'ATL', 'destinationAirport': 'EWR', 'segmentsAirlineName': 'JetBlue Airways', 'totalFare': 199}, {'id': 41, 'flightDate': '2022-04-17', 'startingAirport': 'ATL', 'destinationAirport': 'EWR', 'segmentsAirlineName': 'Spirit Airlines', 'totalFare': 158}, {'id': 42, 'flightDate': '2022-04-17', 'startingAirport': 'ATL', 'destinationAirport': 'EWR', 'segmentsAirlineName': 'United', 'totalFare': 254}, {'id': 43, 'flightDate': '2022-04-17', 'startingAirport': 'ATL', 'destinationAirport': 'EWR', 'segmentsAirlineName': 'United||United', 'totalFare': 213}, {'id': 44, 'flightDate': '2022-04-17', 'startingAirport': 'ATL', 'destinationAirport': 'EWR', 'segmentsAirlineName': 'United', 'totalFare': 204}, {'id': 45, 'flightDate': '2022-04-17', 'startingAirport': 'ATL', 'destinationAirport': 'IAD', 'segmentsAirlineName': 'American Airlines||American Airlines', 'totalFare': 476}, {'id': 46, 'flightDate': '2022-04-17', 'startingAirport': 'ATL', 'destinationAirport': 'IAD', 'segmentsAirlineName': 'Delta||Cape Air||Cape Air||United', 'totalFare': 782}, {'id': 47, 'flightDate': '2022-04-17', 'startingAirport': 'ATL', 'destinationAirport': 'IAD', 'segmentsAirlineName': 'Delta||Delta', 'totalFare': 532}, {'id': 48, 'flightDate': '2022-04-17', 'startingAirport': 'ATL', 'destinationAirport': 'IAD', 'segmentsAirlineName': 'Delta||Delta||Delta', 'totalFare': 361}, {'id': 49, 'flightDate': '2022-04-17', 'startingAirport': 'ATL', 'destinationAirport': 'IAD', 'segmentsAirlineName': 'Delta||United', 'totalFare': 481}, {'id': 50, 'flightDate': '2022-04-17', 'startingAirport': 'ATL', 'destinationAirport': 'IAD', 'segmentsAirlineName': 'Delta', 'totalFare': 499}, {'id': 51, 'flightDate': '2022-04-17', 'startingAirport': 'ATL', 'destinationAirport': 'IAD', 'segmentsAirlineName': 'United', 'totalFare': 369}, {'id': 52, 'flightDate': '2022-04-17', 'startingAirport': 'ATL', 'destinationAirport': 'JFK', 'segmentsAirlineName': 'American Airlines||American Airlines', 'totalFare': 266}, {'id': 53, 'flightDate': '2022-04-17', 'startingAirport': 'ATL', 'destinationAirport': 'JFK', 'segmentsAirlineName': 'Delta||Delta', 'totalFare': 601}, {'id': 54, 'flightDate': '2022-04-17', 'startingAirport': 'ATL', 'destinationAirport': 'JFK', 'segmentsAirlineName': 'United||Delta', 'totalFare': 630}, {'id': 55, 'flightDate': '2022-04-17', 'startingAirport': 'ATL', 'destinationAirport': 'JFK', 'segmentsAirlineName': 'United||United||Delta', 'totalFare': 580}, {'id': 56, 'flightDate': '2022-04-17', 'startingAirport': 'ATL', 'destinationAirport': 'JFK', 'segmentsAirlineName': 'American Airlines', 'totalFare': 224}, {'id': 57, 'flightDate': '2022-04-17', 'startingAirport': 'ATL', 'destinationAirport': 'JFK', 'segmentsAirlineName': 'Delta', 'totalFare': 320}, {'id': 58, 'flightDate': '2022-04-17', 'startingAirport': 'ATL', 'destinationAirport': 'JFK', 'segmentsAirlineName': 'JetBlue Airways', 'totalFare': 199}, {'id': 59, 'flightDate': '2022-04-17', 'startingAirport': 'ATL', 'destinationAirport': 'LAX', 'segmentsAirlineName': 'American Airlines||American Airlines', 'totalFare': 370}, {'id': 60, 'flightDate': '2022-04-17', 'startingAirport': 'ATL', 'destinationAirport': 'LAX', 'segmentsAirlineName': 'Delta||Delta', 'totalFare': 665}, {'id': 61, 'flightDate': '2022-04-17', 'startingAirport': 'ATL', 'destinationAirport': 'LAX', 'segmentsAirlineName': 'Frontier Airlines||Frontier Airlines', 'totalFare': 240}, {'id': 62, 'flightDate': '2022-04-17', 'startingAirport': 'ATL', 'destinationAirport': 'LAX', 'segmentsAirlineName': 'Frontier Airlines||Frontier Airlines||Frontier Airlines', 'totalFare': 244}, {'id': 63, 'flightDate': '2022-04-17', 'startingAirport': 'ATL', 'destinationAirport': 'LAX', 'segmentsAirlineName': 'Spirit Airlines||Spirit Airlines', 'totalFare': 493}, {'id': 64, 'flightDate': '2022-04-17', 'startingAirport': 'ATL', 'destinationAirport': 'LAX', 'segmentsAirlineName': 'Spirit Airlines||Spirit Airlines||Spirit Airlines', 'totalFare': 616}, {'id': 65, 'flightDate': '2022-04-17', 'startingAirport': 'ATL', 'destinationAirport': 'LAX', 'segmentsAirlineName': 'United||United', 'totalFare': 395}, {'id': 66, 'flightDate': '2022-04-17', 'startingAirport': 'ATL', 'destinationAirport': 'LAX', 'segmentsAirlineName': 'Alaska Airlines', 'totalFare': 599}, {'id': 67, 'flightDate': '2022-04-17', 'startingAirport': 'ATL', 'destinationAirport': 'LAX', 'segmentsAirlineName': 'American Airlines', 'totalFare': 599}, {'id': 68, 'flightDate': '2022-04-17', 'startingAirport': 'ATL', 'destinationAirport': 'LAX', 'segmentsAirlineName': 'Delta', 'totalFare': 577}, {'id': 69, 'flightDate': '2022-04-17', 'startingAirport': 'ATL', 'destinationAirport': 'LAX', 'segmentsAirlineName': 'Spirit Airlines', 'totalFare': 329}, {'id': 70, 'flightDate': '2022-04-17', 'startingAirport': 'ATL', 'destinationAirport': 'LGA', 'segmentsAirlineName': 'American Airlines||American Airlines', 'totalFare': 207}, {'id': 71, 'flightDate': '2022-04-17', 'startingAirport': 'ATL', 'destinationAirport': 'LGA', 'segmentsAirlineName': 'Spirit Airlines||Spirit Airlines', 'totalFare': 346}, {'id': 72, 'flightDate': '2022-04-17', 'startingAirport': 'ATL', 'destinationAirport': 'LGA', 'segmentsAirlineName': 'United||United', 'totalFare': 315}, {'id': 73, 'flightDate': '2022-04-17', 'startingAirport': 'ATL', 'destinationAirport': 'LGA', 'segmentsAirlineName': 'American Airlines', 'totalFare': 583}, {'id': 74, 'flightDate': '2022-04-17', 'startingAirport': 'ATL', 'destinationAirport': 'LGA', 'segmentsAirlineName': 'Delta', 'totalFare': 230}, {'id': 75, 'flightDate': '2022-04-17', 'startingAirport': 'ATL', 'destinationAirport': 'LGA', 'segmentsAirlineName': 'Frontier Airlines', 'totalFare': 194}, {'id': 76, 'flightDate': '2022-04-17', 'startingAirport': 'ATL', 'destinationAirport': 'LGA', 'segmentsAirlineName': 'JetBlue Airways', 'totalFare': 214}, {'id': 77, 'flightDate': '2022-04-17', 'startingAirport': 'ATL', 'destinationAirport': 'MIA', 'segmentsAirlineName': 'Delta||United', 'totalFare': 518}, {'id': 78, 'flightDate': '2022-04-17', 'startingAirport': 'ATL', 'destinationAirport': 'MIA', 'segmentsAirlineName': 'JetBlue Airways||JetBlue Airways', 'totalFare': 565}, {'id': 79, 'flightDate': '2022-04-17', 'startingAirport': 'ATL', 'destinationAirport': 'MIA', 'segmentsAirlineName': 'Spirit Airlines||Spirit Airlines', 'totalFare': 314}, {'id': 80, 'flightDate': '2022-04-17', 'startingAirport': 'ATL', 'destinationAirport': 'MIA', 'segmentsAirlineName': 'United||United', 'totalFare': 526}, {'id': 81, 'flightDate': '2022-04-17', 'startingAirport': 'ATL', 'destinationAirport': 'MIA', 'segmentsAirlineName': 'American Airlines', 'totalFare': 205}, {'id': 82, 'flightDate': '2022-04-17', 'startingAirport': 'ATL', 'destinationAirport': 'MIA', 'segmentsAirlineName': 'Delta', 'totalFare': 322}, {'id': 83, 'flightDate': '2022-04-17', 'startingAirport': 'ATL', 'destinationAirport': 'MIA', 'segmentsAirlineName': 'Frontier Airlines', 'totalFare': 404}, {'id': 84, 'flightDate': '2022-04-17', 'startingAirport': 'ATL', 'destinationAirport': 'OAK', 'segmentsAirlineName': 'Alaska Airlines||Alaska Airlines', 'totalFare': 912}, {'id': 85, 'flightDate': '2022-04-17', 'startingAirport': 'ATL', 'destinationAirport': 'OAK', 'segmentsAirlineName': 'Delta||Delta', 'totalFare': 553}, {'id': 86, 'flightDate': '2022-04-17', 'startingAirport': 'ATL', 'destinationAirport': 'OAK', 'segmentsAirlineName': 'Delta||United||Delta', 'totalFare': 862}, {'id': 87, 'flightDate': '2022-04-17', 'startingAirport': 'ATL', 'destinationAirport': 'OAK', 'segmentsAirlineName': 'Frontier Airlines||Frontier Airlines', 'totalFare': 580}, {'id': 88, 'flightDate': '2022-04-17', 'startingAirport': 'ATL', 'destinationAirport': 'OAK', 'segmentsAirlineName': 'Spirit Airlines||Spirit Airlines', 'totalFare': 464}, {'id': 89, 'flightDate': '2022-04-17', 'startingAirport': 'ATL', 'destinationAirport': 'OAK', 'segmentsAirlineName': 'Spirit Airlines||Spirit Airlines||Spirit Airlines', 'totalFare': 510}, {'id': 90, 'flightDate': '2022-04-17', 'startingAirport': 'ATL', 'destinationAirport': 'OAK', 'segmentsAirlineName': 'United||United||Alaska Airlines', 'totalFare': 797}, {'id': 91, 'flightDate': '2022-04-17', 'startingAirport': 'ATL', 'destinationAirport': 'OAK', 'segmentsAirlineName': 'United||United||Delta', 'totalFare': 795}, {'id': 92, 'flightDate': '2022-04-17', 'startingAirport': 'ATL', 'destinationAirport': 'ORD', 'segmentsAirlineName': 'American Airlines||American Airlines', 'totalFare': 186}, {'id': 93, 'flightDate': '2022-04-17', 'startingAirport': 'ATL', 'destinationAirport': 'ORD', 'segmentsAirlineName': 'Delta||Cape Air||Cape Air||United', 'totalFare': 658}, {'id': 94, 'flightDate': '2022-04-17', 'startingAirport': 'ATL', 'destinationAirport': 'ORD', 'segmentsAirlineName': 'Delta||Delta', 'totalFare': 259}, {'id': 95, 'flightDate': '2022-04-17', 'startingAirport': 'ATL', 'destinationAirport': 'ORD', 'segmentsAirlineName': 'JetBlue Airways||JetBlue Airways', 'totalFare': 416}, {'id': 96, 'flightDate': '2022-04-17', 'startingAirport': 'ATL', 'destinationAirport': 'ORD', 'segmentsAirlineName': 'Spirit Airlines||Spirit Airlines', 'totalFare': 274}, {'id': 97, 'flightDate': '2022-04-17', 'startingAirport': 'ATL', 'destinationAirport': 'ORD', 'segmentsAirlineName': 'United||United', 'totalFare': 391}, {'id': 98, 'flightDate': '2022-04-17', 'startingAirport': 'ATL', 'destinationAirport': 'ORD', 'segmentsAirlineName': 'American Airlines', 'totalFare': 723}, {'id': 99, 'flightDate': '2022-04-17', 'startingAirport': 'ATL', 'destinationAirport': 'ORD', 'segmentsAirlineName': 'Delta', 'totalFare': 238}]\n"
     ]
    }
   ],
   "source": [
    "url2 = \"http://127.0.0.1:8080/flights\"\n",
    "r2 = requests.get(url2)\n",
    "print(r2.json())"
   ]
  },
  {
   "cell_type": "code",
   "execution_count": 16,
   "id": "45ba2778-798b-4864-876e-bb7b83776950",
   "metadata": {},
   "outputs": [
    {
     "name": "stdout",
     "output_type": "stream",
     "text": [
      "{'id': 4, 'flightDate': '2022-04-17', 'startingAirport': 'ATL', 'destinationAirport': 'BOS', 'isBasicEconomy': False, 'isRefundable': False, 'isNonStop': True, 'segmentsAirlineName': 'Delta', 'totalFare': 307}\n"
     ]
    }
   ],
   "source": [
    "url3 = \"http://127.0.0.1:8080/flights/4\"\n",
    "r3 = requests.get(url3)\n",
    "print(r3.json())"
   ]
  },
  {
   "cell_type": "code",
   "execution_count": null,
   "id": "8bbf4ffa-b9a3-4405-a356-9271ab0b3d6d",
   "metadata": {},
   "outputs": [],
   "source": []
  }
 ],
 "metadata": {
  "kernelspec": {
   "display_name": "Python 3 (ipykernel)",
   "language": "python",
   "name": "python3"
  },
  "language_info": {
   "codemirror_mode": {
    "name": "ipython",
    "version": 3
   },
   "file_extension": ".py",
   "mimetype": "text/x-python",
   "name": "python",
   "nbconvert_exporter": "python",
   "pygments_lexer": "ipython3",
   "version": "3.13.1"
  }
 },
 "nbformat": 4,
 "nbformat_minor": 5
}
