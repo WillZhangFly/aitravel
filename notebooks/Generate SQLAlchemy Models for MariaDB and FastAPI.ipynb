{
 "cells": [
  {
   "cell_type": "code",
   "execution_count": 46,
   "id": "7d0c9b98-4bcb-468f-90b7-82162f024c18",
   "metadata": {},
   "outputs": [],
   "source": [
    "from env import config\n",
    "from sqlalchemy import create_engine, Column, BigInteger, Date, Integer, String, Boolean\n",
    "from sqlalchemy.orm import sessionmaker, DeclarativeBase\n",
    "\n",
    "class Base(DeclarativeBase):\n",
    "   pass\n"
   ]
  },
  {
   "cell_type": "code",
   "execution_count": 47,
   "id": "ce2f0ae8-1212-4a12-a5aa-ef4e830bab3e",
   "metadata": {},
   "outputs": [
    {
     "data": {
      "text/plain": [
       "True"
      ]
     },
     "execution_count": 47,
     "metadata": {},
     "output_type": "execute_result"
    }
   ],
   "source": [
    "DATABASE_URL = config(\"FLIGHT_PRICES_DATABASE_URL\", cast=str, default=None)\n",
    "DATABASE_URL is not None"
   ]
  },
  {
   "cell_type": "code",
   "execution_count": 48,
   "id": "0957001a-e3d7-47d4-87b6-b2aebf3c9687",
   "metadata": {},
   "outputs": [],
   "source": [
    "engine = create_engine(str(DATABASE_URL))"
   ]
  },
  {
   "cell_type": "code",
   "execution_count": null,
   "id": "25ab1ffc-2102-47d4-8ee8-dbc5ec03ca4d",
   "metadata": {},
   "outputs": [],
   "source": []
  },
  {
   "cell_type": "code",
   "execution_count": 49,
   "id": "56dfeca7-27d2-4c99-b9d4-29be214365e7",
   "metadata": {},
   "outputs": [],
   "source": [
    "class FlightPrice(Base):\n",
    "    __tablename__ = \"flight_prices\"\n",
    "    __table_args__={\"extend_existing\": True}\n",
    "    id = Column(\"index\" , BigInteger, primary_key=True)\n",
    "    flightDate = Column(Date )\n",
    "    startingAirport = Column(String)\n",
    "    destinationAirport = Column(String)\n",
    "    isBasicEconomy = Column(Boolean)\n",
    "    isRefundable = Column(Boolean)\n",
    "    isNonStop = Column(Boolean)\n",
    "    segmentsAirlineName = Column(String)\n",
    "    totalFare = Column(Integer)"
   ]
  },
  {
   "cell_type": "code",
   "execution_count": 53,
   "id": "8f6283e3-81ed-4ee2-b0bf-656143e24b2e",
   "metadata": {},
   "outputs": [
    {
     "name": "stdout",
     "output_type": "stream",
     "text": [
      "0 2022-04-17 00:00:00\n",
      "1 2022-04-17 00:00:00\n",
      "2 2022-04-17 00:00:00\n",
      "3 2022-04-17 00:00:00\n",
      "4 2022-04-17 00:00:00\n",
      "5 2022-04-17 00:00:00\n",
      "6 2022-04-17 00:00:00\n",
      "7 2022-04-17 00:00:00\n",
      "8 2022-04-17 00:00:00\n",
      "9 2022-04-17 00:00:00\n"
     ]
    }
   ],
   "source": [
    "SessionLocal = sessionmaker(bind=engine)\n",
    "session  = SessionLocal()\n",
    "\n",
    "queryset = session.query(FlightPrice).limit(10).all()\n",
    "for row_value in queryset:\n",
    "    print(row_value.id, row_value.flightDate, )\n",
    "\n",
    "session.close()"
   ]
  },
  {
   "cell_type": "code",
   "execution_count": 56,
   "id": "f5417f5b-0337-48f6-9eec-c553dd3ff900",
   "metadata": {},
   "outputs": [],
   "source": [
    "from pydantic import BaseModel\n",
    "from datetime import date\n",
    "class FlightPriceSchema(BaseModel):\n",
    "    id: int\n",
    "    flightDate: date\n",
    "    startingAirport: str\n",
    "    destinationAirport: str\n",
    "    isBasicEconomy: bool\n",
    "    isRefundable: bool\n",
    "    isNonStop: bool\n",
    "    segmentsAirlineName: str\n",
    "    totalFare: int\n",
    "\n",
    "    class Config:\n",
    "        from_attributes = True"
   ]
  },
  {
   "cell_type": "code",
   "execution_count": 57,
   "id": "1f8a8134-897a-4cd3-a666-14f3685cbe23",
   "metadata": {},
   "outputs": [
    {
     "name": "stdout",
     "output_type": "stream",
     "text": [
      "{\"id\":0,\"flightDate\":\"2022-04-17\",\"startingAirport\":\"ATL\",\"destinationAirport\":\"BOS\",\"isBasicEconomy\":false,\"isRefundable\":false,\"isNonStop\":false,\"segmentsAirlineName\":\"American Airlines||American Airlines\",\"totalFare\":273}\n",
      "{\"id\":1,\"flightDate\":\"2022-04-17\",\"startingAirport\":\"ATL\",\"destinationAirport\":\"BOS\",\"isBasicEconomy\":false,\"isRefundable\":false,\"isNonStop\":false,\"segmentsAirlineName\":\"Spirit Airlines||Spirit Airlines\",\"totalFare\":301}\n",
      "{\"id\":2,\"flightDate\":\"2022-04-17\",\"startingAirport\":\"ATL\",\"destinationAirport\":\"BOS\",\"isBasicEconomy\":false,\"isRefundable\":false,\"isNonStop\":false,\"segmentsAirlineName\":\"United||United\",\"totalFare\":352}\n",
      "{\"id\":3,\"flightDate\":\"2022-04-17\",\"startingAirport\":\"ATL\",\"destinationAirport\":\"BOS\",\"isBasicEconomy\":false,\"isRefundable\":false,\"isNonStop\":true,\"segmentsAirlineName\":\"American Airlines\",\"totalFare\":355}\n",
      "{\"id\":4,\"flightDate\":\"2022-04-17\",\"startingAirport\":\"ATL\",\"destinationAirport\":\"BOS\",\"isBasicEconomy\":false,\"isRefundable\":false,\"isNonStop\":true,\"segmentsAirlineName\":\"Delta\",\"totalFare\":307}\n",
      "{\"id\":5,\"flightDate\":\"2022-04-17\",\"startingAirport\":\"ATL\",\"destinationAirport\":\"BOS\",\"isBasicEconomy\":false,\"isRefundable\":false,\"isNonStop\":true,\"segmentsAirlineName\":\"JetBlue Airways\",\"totalFare\":302}\n",
      "{\"id\":6,\"flightDate\":\"2022-04-17\",\"startingAirport\":\"ATL\",\"destinationAirport\":\"BOS\",\"isBasicEconomy\":true,\"isRefundable\":false,\"isNonStop\":false,\"segmentsAirlineName\":\"United||United\",\"totalFare\":307}\n",
      "{\"id\":7,\"flightDate\":\"2022-04-17\",\"startingAirport\":\"ATL\",\"destinationAirport\":\"CLT\",\"isBasicEconomy\":false,\"isRefundable\":false,\"isNonStop\":false,\"segmentsAirlineName\":\"American Airlines||American Airlines\",\"totalFare\":492}\n",
      "{\"id\":8,\"flightDate\":\"2022-04-17\",\"startingAirport\":\"ATL\",\"destinationAirport\":\"CLT\",\"isBasicEconomy\":false,\"isRefundable\":false,\"isNonStop\":false,\"segmentsAirlineName\":\"JetBlue Airways||JetBlue Airways\",\"totalFare\":543}\n",
      "{\"id\":9,\"flightDate\":\"2022-04-17\",\"startingAirport\":\"ATL\",\"destinationAirport\":\"CLT\",\"isBasicEconomy\":false,\"isRefundable\":false,\"isNonStop\":false,\"segmentsAirlineName\":\"United||United\",\"totalFare\":467}\n"
     ]
    }
   ],
   "source": [
    "SessionLocal = sessionmaker(bind=engine)\n",
    "session  = SessionLocal()\n",
    "\n",
    "queryset = session.query(FlightPrice).limit(10).all()\n",
    "for row_value in queryset:\n",
    "    data = FlightPriceSchema.model_validate(row_value)\n",
    "    print(data.model_dump_json())\n",
    "session.close()"
   ]
  },
  {
   "cell_type": "code",
   "execution_count": null,
   "id": "fd104bf2-ada5-4137-b072-77ee220e8b29",
   "metadata": {},
   "outputs": [],
   "source": []
  }
 ],
 "metadata": {
  "kernelspec": {
   "display_name": "Python 3 (ipykernel)",
   "language": "python",
   "name": "python3"
  },
  "language_info": {
   "codemirror_mode": {
    "name": "ipython",
    "version": 3
   },
   "file_extension": ".py",
   "mimetype": "text/x-python",
   "name": "python",
   "nbconvert_exporter": "python",
   "pygments_lexer": "ipython3",
   "version": "3.13.1"
  }
 },
 "nbformat": 4,
 "nbformat_minor": 5
}
