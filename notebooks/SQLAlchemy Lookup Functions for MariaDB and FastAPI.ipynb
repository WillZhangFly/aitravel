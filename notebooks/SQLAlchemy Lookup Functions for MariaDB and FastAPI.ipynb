{
 "cells": [
  {
   "cell_type": "code",
   "execution_count": 11,
   "id": "7d0c9b98-4bcb-468f-90b7-82162f024c18",
   "metadata": {},
   "outputs": [],
   "source": [
    "from env import config\n",
    "from sqlalchemy import create_engine, Column, BigInteger, Date, Integer, String, Boolean\n",
    "from sqlalchemy.orm import sessionmaker, DeclarativeBase\n",
    "\n",
    "class Base(DeclarativeBase):\n",
    "   pass\n",
    "\n",
    "class FlightPrice(Base):\n",
    "    __tablename__ = \"flight_prices\"\n",
    "    __table_args__={\"extend_existing\": True}\n",
    "    id = Column(\"index\" , BigInteger, primary_key=True)\n",
    "    flightDate = Column(Date )\n",
    "    startingAirport = Column(String)\n",
    "    destinationAirport = Column(String)\n",
    "    isBasicEconomy = Column(Boolean)\n",
    "    isRefundable = Column(Boolean)\n",
    "    isNonStop = Column(Boolean)\n",
    "    segmentsAirlineName = Column(String)\n",
    "    totalFare = Column(Integer)"
   ]
  },
  {
   "cell_type": "code",
   "execution_count": 12,
   "id": "ce2f0ae8-1212-4a12-a5aa-ef4e830bab3e",
   "metadata": {},
   "outputs": [
    {
     "data": {
      "text/plain": [
       "True"
      ]
     },
     "execution_count": 12,
     "metadata": {},
     "output_type": "execute_result"
    }
   ],
   "source": [
    "DATABASE_URL = config(\"FLIGHT_PRICES_DATABASE_URL\", cast=str, default=None)\n",
    "DATABASE_URL is not None"
   ]
  },
  {
   "cell_type": "code",
   "execution_count": 13,
   "id": "0957001a-e3d7-47d4-87b6-b2aebf3c9687",
   "metadata": {},
   "outputs": [],
   "source": [
    "engine = create_engine(str(DATABASE_URL))"
   ]
  },
  {
   "cell_type": "code",
   "execution_count": 14,
   "id": "25ab1ffc-2102-47d4-8ee8-dbc5ec03ca4d",
   "metadata": {},
   "outputs": [],
   "source": [
    "def get_flight_prices(session, offset=0, limit=100):\n",
    "    return session.query(FlightPrice).offset(offset).limit(limit).all()"
   ]
  },
  {
   "cell_type": "code",
   "execution_count": 15,
   "id": "7e504915-22dc-48b0-a714-a3e133c61d9d",
   "metadata": {},
   "outputs": [],
   "source": [
    "def get_flight_price(session, flight_price_id, offset=0, limit=100):\n",
    "    return session.query(FlightPrice).filter(FlightPrice.id == flight_price_id).one_or_none()"
   ]
  },
  {
   "cell_type": "code",
   "execution_count": 16,
   "id": "8f6283e3-81ed-4ee2-b0bf-656143e24b2e",
   "metadata": {},
   "outputs": [
    {
     "name": "stdout",
     "output_type": "stream",
     "text": [
      "[100, 101, 102, 103, 104, 105, 106, 107, 108, 109, 110, 111, 112, 113, 114, 115, 116, 117, 118, 119, 120, 121, 122, 123, 124, 125, 126, 127, 128, 129, 130, 131, 132, 133, 134, 135, 136, 137, 138, 139, 140, 141, 142, 143, 144, 145, 146, 147, 148, 149, 150, 151, 152, 153, 154, 155, 156, 157, 158, 159, 160, 161, 162, 163, 164, 165, 166, 167, 168, 169, 170, 171, 172, 173, 174, 175, 176, 177, 178, 179, 180, 181, 182, 183, 184, 185, 186, 187, 188, 189, 190, 191, 192, 193, 194, 195, 196, 197, 198, 199]\n"
     ]
    }
   ],
   "source": [
    "SessionLocal = sessionmaker(bind=engine)\n",
    "session  = SessionLocal()\n",
    "\n",
    "flight_prices = get_flight_prices(session, offset=100)\n",
    "print([x.id for x in flight_prices])\n",
    "session.close()"
   ]
  },
  {
   "cell_type": "code",
   "execution_count": 19,
   "id": "df464767-c9a7-46de-9031-8cbbcd39f3d3",
   "metadata": {},
   "outputs": [
    {
     "name": "stdout",
     "output_type": "stream",
     "text": [
      "108 2022-04-17 00:00:00\n"
     ]
    }
   ],
   "source": [
    "SessionLocal = sessionmaker(bind=engine)\n",
    "session  = SessionLocal()\n",
    "\n",
    "flight_price = get_flight_price(session, 108)\n",
    "if flight_price is not None:\n",
    "    print(flight_price.id, flight_price.flightDate)\n",
    "else \n",
    "    print(\"flight not found\")\n",
    "session.close()"
   ]
  },
  {
   "cell_type": "code",
   "execution_count": null,
   "id": "fd104bf2-ada5-4137-b072-77ee220e8b29",
   "metadata": {},
   "outputs": [],
   "source": []
  }
 ],
 "metadata": {
  "kernelspec": {
   "display_name": "Python 3 (ipykernel)",
   "language": "python",
   "name": "python3"
  },
  "language_info": {
   "codemirror_mode": {
    "name": "ipython",
    "version": 3
   },
   "file_extension": ".py",
   "mimetype": "text/x-python",
   "name": "python",
   "nbconvert_exporter": "python",
   "pygments_lexer": "ipython3",
   "version": "3.13.1"
  }
 },
 "nbformat": 4,
 "nbformat_minor": 5
}
