{
 "cells": [
  {
   "cell_type": "code",
   "execution_count": 10,
   "id": "7d0c9b98-4bcb-468f-90b7-82162f024c18",
   "metadata": {},
   "outputs": [],
   "source": [
    "from getpass import getpass\n",
    "from env import config\n",
    "from sqlalchemy import create_engine, text"
   ]
  },
  {
   "cell_type": "code",
   "execution_count": 11,
   "id": "ce2f0ae8-1212-4a12-a5aa-ef4e830bab3e",
   "metadata": {},
   "outputs": [
    {
     "data": {
      "text/plain": [
       "True"
      ]
     },
     "execution_count": 11,
     "metadata": {},
     "output_type": "execute_result"
    }
   ],
   "source": [
    "DATABASE_URL = config(\"DATABASE_URL\", cast=str, default=None)\n",
    "DATABASE_URL is not None"
   ]
  },
  {
   "cell_type": "code",
   "execution_count": 20,
   "id": "01fd4d8f-7a89-4ee8-9a24-ca28845a3c8c",
   "metadata": {},
   "outputs": [
    {
     "name": "stdin",
     "output_type": "stream",
     "text": [
      " ········\n"
     ]
    }
   ],
   "source": [
    "new_username = \"mindsdb2\"\n",
    "new_password = getpass()\n"
   ]
  },
  {
   "cell_type": "code",
   "execution_count": 21,
   "id": "0957001a-e3d7-47d4-87b6-b2aebf3c9687",
   "metadata": {},
   "outputs": [],
   "source": [
    "engine = create_engine(str(DATABASE_URL))"
   ]
  },
  {
   "cell_type": "code",
   "execution_count": 22,
   "id": "8c17dc67-07ba-409f-ab80-072a0cdcd2ea",
   "metadata": {},
   "outputs": [],
   "source": [
    "dbs = [\"housing_db\", \"ai_travel_prices\"]\n",
    "\n",
    "with engine.connect() as conn:\n",
    "    create_user_sql = f\"CREATE USER '{new_username}'@'%' IDENTIFIED BY '{new_password}';\"\n",
    "    conn.execute(text(create_user_sql))\n",
    "\n",
    "    for db in dbs:\n",
    "        db_sql_perms = f\"GRANT ALL PRIVILEGES on {db}.* TO '{new_username}'@'%';\"\n",
    "        conn.execute(text(db_sql_perms))\n",
    "    db_sql_new_dbs= f\"GRANT CREATE ON *.* to '{new_username}'@'%';\"\n",
    "    conn.execute(text(db_sql_new_dbs))\n",
    "\n",
    "    conn.execute(text(\"FLUSH PRIVILEGES;\"))\n"
   ]
  },
  {
   "cell_type": "code",
   "execution_count": 23,
   "id": "c6050089-7e9d-485f-af92-191217e988d8",
   "metadata": {},
   "outputs": [
    {
     "name": "stdout",
     "output_type": "stream",
     "text": [
      "[('ai_travel_prices',), ('housing_db',), ('information_schema',), ('mysql',), ('performance_schema',), ('sys',)]\n"
     ]
    }
   ],
   "source": [
    "DB_NAME=\"ai_travel_prices\"\n",
    "with engine.connect() as conn:\n",
    "    results = conn.execute(text(f\"SHOW DATABASES\"))\n",
    "    print(results.all())"
   ]
  },
  {
   "cell_type": "code",
   "execution_count": null,
   "id": "56dfeca7-27d2-4c99-b9d4-29be214365e7",
   "metadata": {},
   "outputs": [],
   "source": []
  }
 ],
 "metadata": {
  "kernelspec": {
   "display_name": "Python 3 (ipykernel)",
   "language": "python",
   "name": "python3"
  },
  "language_info": {
   "codemirror_mode": {
    "name": "ipython",
    "version": 3
   },
   "file_extension": ".py",
   "mimetype": "text/x-python",
   "name": "python",
   "nbconvert_exporter": "python",
   "pygments_lexer": "ipython3",
   "version": "3.13.1"
  }
 },
 "nbformat": 4,
 "nbformat_minor": 5
}
